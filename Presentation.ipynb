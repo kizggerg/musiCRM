{
 "cells": [
  {
   "cell_type": "markdown",
   "id": "cb62ef37",
   "metadata": {},
   "source": [
    "# ChatGPT SDLC\n",
    "\n",
    "How to bring AI technology to every step of the Software Development LifeCycle (SDLC)\n",
    "\n",
    "Presented by: Greg Gzik\n",
    "https://www.linkedin.com/in/gregory-gzik/\n",
    "\n",
    "<img src=\"./photos/TitleCard.webp\">\n",
    "\n",
    "<img src=\"./photos/AIGrowth.png\">\n",
    "\n",
    "(Source: https://www.zeta-alpha.com/post/growth-of-ai-research-in-2020-steady-on-the-exponential-path-in-times-of-crisis)\n",
    "\n",
    "<img height=\"750px\" src=\"./photos/HelloChatGPT.png\">"
   ]
  },
  {
   "cell_type": "markdown",
   "id": "bf298745",
   "metadata": {},
   "source": [
    "## The Software Development LifeCycle (\"SDLC\")\n",
    "\n",
    "There are many SDLCs out there, I'm sure your company has its own. But here's a standard template we'll follow for this presentation, with a few modifications to tailor the process to us developers.\n",
    "\n",
    "<img height=\"500px\" src=\"./photos/SDLCExample.jpeg\">"
   ]
  },
  {
   "cell_type": "markdown",
   "id": "0463fcb8",
   "metadata": {},
   "source": [
    "### Our Example Problem\n",
    "\n",
    "Taxes are complicated - doubly so for our right-brained musicians!\n",
    "\n",
    "<img src=\"./photos/CanadaTaxMusicians.jpeg\" height=\"750px\">\n",
    "\n",
    "Source: https://www.canada.ca/en/revenue-agency/services/tax/individuals/topics/about-your-tax-return/tax-return/completing-a-tax-return/deductions-credits-expenses/line-22900-other-employment-expenses/employed-artists.html"
   ]
  },
  {
   "cell_type": "markdown",
   "id": "25b62609",
   "metadata": {},
   "source": [
    "## Discovery\n",
    "\n",
    "There are many ways to tackle discovery as a business that involve many different kinds of stakeholders.\n",
    "But at the end of the day, the challenge is the same: \n",
    "> In the simplest possible terms, what is the problem we are trying to solve?\n",
    "\n",
    "Process-wise, what framework(s) can we use tackle this challenge? Here's one: The 5 Whys Analysis.\n",
    "\n",
    "<img height=\"250px\" src=\"./photos/5Whys.jpeg\">\n",
    "\n",
    "Here, we may ask our users a list of questions about their experience, and from those list of questions drill down using a 5 Whys technique that help us at the root problem.\n",
    "\n",
    "So what questions should we start asking? Let's see what ChatGPT says...\n",
    "\n",
    "<img height=\"500px\" src=\"./photos/ListofQuestions.jpeg\" >\n",
    "\n",
    "These 10 questions are pretty good start. \n",
    "\n",
    "Let's pop on a quick call with the musician and get some answers. I'm going to use a video-calling software that does auto-transcriptions so I can copy & paste our discussion back into ChatGPT. This transcript record is pretty ugly, so I've asked ChatGPT to clean it up a bit (I've also edited some of the responses to protect the identity of the musician). \n",
    "\n",
    "Already, you can see some useful insights in these questions:\n",
    "\n",
    "<img height=\"500px\" src=\"./photos/ModifiedTranscript.jpeg\">\n",
    "\n",
    "The biggest takeaways are:\n",
    "- Taxes are confusing, but he's using WealthSimple Tax to sort out a lot of the details for him\n",
    "- Calculating out-of-town transportation expenses are still a pain point\n",
    "- Right now he keeps his receipts in a shoebox and uploads them to the cloud, then reviews them every so often.\n",
    "\n",
    "We've already narrowed down the problem: \"Canada's tax system is confusing for musicians -> Tracking the out-of-town transportation costs are painful\"\n",
    "\n",
    "Let's continue with the 5 whys on this problem. Again, I've ask ChatGPT to format the transcript and clean up the wording a bit:\n",
    "\n",
    "<img height=\"500px\" src=\"./photos/5WhysExample.jpeg\">\n",
    "\n",
    "So what we can see is that his gigs are stored in one system (his calendar) and the receipts are stored in a separate system (photos in the cloud), or not at all.\n",
    "\n",
    "This leaves us with one final problem statement:\n",
    "\n",
    "<img src=\"./photos/ProblemStatement.jpeg\">\n",
    "\n",
    "There are many other steps to the discovery process, like finding alternative solutions in the market, creating a business case, etc. But so far, by combining the 5 Whys framework with ChatGPT, we have:\n",
    "1. Created a standard template of questions to ask our users during the discovery process.\n",
    "2. Streamlined the analysis of our discussions.\n",
    "3. Worked together - User + Us + AI - to clearly define the problem.\n",
    "\n",
    "Is all of this possible without ChatGPT? Of course! But using ChatGPT helped us turn one 10 minute phone call into soemthing immediately actionable!"
   ]
  },
  {
   "cell_type": "markdown",
   "id": "2ef38fce",
   "metadata": {},
   "source": [
    "## Design\n",
    "\n",
    "TODO"
   ]
  },
  {
   "cell_type": "markdown",
   "id": "400c75b1",
   "metadata": {},
   "source": [
    "## Architecture\n",
    "\n",
    "TODO"
   ]
  },
  {
   "cell_type": "markdown",
   "id": "77953e7c",
   "metadata": {},
   "source": [
    "## Project Breakdown\n",
    "\n",
    "TODO:\n",
    "- Framework = Kanban?"
   ]
  },
  {
   "cell_type": "markdown",
   "id": "06a37053",
   "metadata": {},
   "source": [
    "## Pause - What is our Mindset here?\n",
    "\n",
    "Process -> Framework -> AI -> Process"
   ]
  },
  {
   "cell_type": "markdown",
   "id": "071ba021",
   "metadata": {},
   "source": [
    "## Development\n",
    "\n",
    "TODO:\n",
    "- Framework = TDD"
   ]
  },
  {
   "cell_type": "markdown",
   "id": "b9434436",
   "metadata": {},
   "source": [
    "## Testing\n",
    "\n",
    "TODO:\n",
    "- Framework = Test Pyramid"
   ]
  },
  {
   "cell_type": "markdown",
   "id": "a37bc2f3",
   "metadata": {},
   "source": [
    "## Deployment \n",
    "\n",
    "TODO:\n",
    "- Framework = ???"
   ]
  },
  {
   "cell_type": "markdown",
   "id": "ef51d5d0",
   "metadata": {},
   "source": [
    "## Maintenance\n",
    "\n",
    "TODO:\n",
    "- Framework = Observability (Logs, Metrics, Traces, Alarms, Dashboards)"
   ]
  }
 ],
 "metadata": {
  "kernelspec": {
   "display_name": "Python 3 (ipykernel)",
   "language": "python",
   "name": "python3"
  }
 },
 "nbformat": 4,
 "nbformat_minor": 5
}
