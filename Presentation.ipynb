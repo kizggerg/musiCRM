{
 "cells": [
  {
   "cell_type": "markdown",
   "id": "cb62ef37",
   "metadata": {},
   "source": [
    "# ChatGPT SDLC\n",
    "\n",
    "How to bring AI technology to every step of the Software Development LifeCycle (SDLC)\n",
    "\n",
    "Presented by: Greg Gzik\n",
    "https://www.linkedin.com/in/gregory-gzik/\n",
    "\n",
    "<img src=\"./photos/TitleCard.webp\">\n",
    "\n",
    "<img src=\"./photos/AIGrowth.png\">\n",
    "\n",
    "(Source: https://www.zeta-alpha.com/post/growth-of-ai-research-in-2020-steady-on-the-exponential-path-in-times-of-crisis)\n",
    "\n",
    "<img height=\"750px\" src=\"./photos/HelloChatGPT.png\">"
   ]
  },
  {
   "cell_type": "markdown",
   "id": "bf298745",
   "metadata": {},
   "source": [
    "## The Software Development LifeCycle (\"SDLC\")\n",
    "\n",
    "There are many SDLCs out there, I'm sure your company has its own. But here's a standard template we'll follow for this presentation, with a few modifications to tailor the process to us developers.\n",
    "\n",
    "<img height=\"500px\" src=\"./photos/SDLCExample.jpeg\">"
   ]
  },
  {
   "cell_type": "markdown",
   "id": "0463fcb8",
   "metadata": {},
   "source": [
    "### Our Example Problem\n",
    "\n",
    "Taxes are complicated - doubly so for our right-brained musicians!\n",
    "\n",
    "<img src=\"./photos/CanadaTaxMusicians.jpeg\" height=\"750px\">\n",
    "\n",
    "Source: https://www.canada.ca/en/revenue-agency/services/tax/individuals/topics/about-your-tax-return/tax-return/completing-a-tax-return/deductions-credits-expenses/line-22900-other-employment-expenses/employed-artists.html"
   ]
  },
  {
   "cell_type": "markdown",
   "id": "25b62609",
   "metadata": {},
   "source": []
  }
 ],
 "metadata": {
  "kernelspec": {
   "display_name": "Python 3 (ipykernel)",
   "language": "python",
   "name": "python3"
  }
 },
 "nbformat": 4,
 "nbformat_minor": 5
}
